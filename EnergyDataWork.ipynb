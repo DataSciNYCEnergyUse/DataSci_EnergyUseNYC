{
 "cells": [
  {
   "cell_type": "code",
   "execution_count": 59,
   "metadata": {
    "collapsed": false,
    "scrolled": true
   },
   "outputs": [],
   "source": [
    "import seaborn as sns\n",
    "import bokeh.io, bokeh.plotting, bokeh.models\n",
    "from bokeh import mpl\n",
    "import pandas as pd\n",
    "import numpy as np\n",
    "\n",
    "data1 = pd.read_csv('/Users/matthewzhou/Documents/Energy2011.csv')\n",
    "data2 = pd.read_csv('/Users/matthewzhou/Documents/Energy2012.csv')\n",
    "data3 = pd.read_csv('/Users/matthewzhou/Documents/Energy2013.csv')\n",
    "data4 = pd.read_csv('/Users/matthewzhou/Documents/Energy2014.csv')\n",
    "n = 0\n",
    "for i in [data1,data2,data3,data4]:\n",
    "    i[\"Year\"] = 2011 + n\n",
    "    n+=1\n",
    "data4 = data4.drop(\"Co-reported BBL Status\", axis =1)\n",
    "data4 = data4.drop(\"BBLs Co-reported\", axis =1)\n",
    "data4 = data4.drop(\"BBL on the Covered Buildings List\", axis =1)\n",
    "data4 = data4.drop(\"Automatic Water Benchmarking Eligible\", axis =1)\n",
    "data4 = data4.drop(\"Weather Normalized Site EUI\", axis =1)\n",
    "data4 = data4.drop(\"Source EUI\", axis =1)\n",
    "data4 = data4.drop(\"Direct GHG Emissions\", axis =1)\n",
    "data4 = data4.drop(\"Indirect GHG Emissions\", axis =1)\n",
    "data4 = data4.drop(\"DOF Property Floor Area (Buildngs and Parking)(ft2)\", axis =1)\n",
    "data3 = data3.drop(\"Co-reported BBL Status\", axis =1)\n",
    "data3 = data3.drop(\"BBLs Co-reported\", axis =1)\n",
    "data3 = data3.drop(\"Automatic Water Benchmarking Eligible\", axis =1)\n",
    "data3 = data3.drop(\"Weather Normalized Site EUI\", axis =1)\n",
    "data3 = data3.drop(\"Source EUI\", axis =1)\n",
    "data3 = data3.drop(\"Direct GHG Emissions\", axis =1)\n",
    "data3 = data3.drop(\"Indirect GHG Emissions\", axis =1)\n",
    "data3 = data3.drop(\"DOF Property Floor Area (Buildngs and Parking)(ft2)\", axis =1)\n",
    "data = pd.concat([data1, data2, data3, data4])\n",
    "data\n",
    "data.to_csv(\"EnergyData.csv\", index_label=\"Index\")"
   ]
  },
  {
   "cell_type": "code",
   "execution_count": null,
   "metadata": {
    "collapsed": false
   },
   "outputs": [],
   "source": []
  },
  {
   "cell_type": "code",
   "execution_count": null,
   "metadata": {
    "collapsed": true
   },
   "outputs": [],
   "source": []
  }
 ],
 "metadata": {
  "kernelspec": {
   "display_name": "Python 3",
   "language": "python",
   "name": "python3"
  },
  "language_info": {
   "codemirror_mode": {
    "name": "ipython",
    "version": 3
   },
   "file_extension": ".py",
   "mimetype": "text/x-python",
   "name": "python",
   "nbconvert_exporter": "python",
   "pygments_lexer": "ipython3",
   "version": "3.5.1"
  }
 },
 "nbformat": 4,
 "nbformat_minor": 0
}
